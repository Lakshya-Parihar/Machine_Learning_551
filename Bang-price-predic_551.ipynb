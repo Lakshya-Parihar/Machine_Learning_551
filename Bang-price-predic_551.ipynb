{
  "nbformat": 4,
  "nbformat_minor": 0,
  "metadata": {
    "colab": {
      "provenance": [],
      "authorship_tag": "ABX9TyMxIC0KNNWQuiu3A1Glf5NG",
      "include_colab_link": true
    },
    "kernelspec": {
      "name": "python3",
      "display_name": "Python 3"
    },
    "language_info": {
      "name": "python"
    }
  },
  "cells": [
    {
      "cell_type": "markdown",
      "metadata": {
        "id": "view-in-github",
        "colab_type": "text"
      },
      "source": [
        "<a href=\"https://colab.research.google.com/github/Lakshya-Parihar/Machine_Learning_551/blob/main/Bang-price-predic_551.ipynb\" target=\"_parent\"><img src=\"https://colab.research.google.com/assets/colab-badge.svg\" alt=\"Open In Colab\"/></a>"
      ]
    },
    {
      "cell_type": "code",
      "execution_count": 20,
      "metadata": {
        "id": "n73q9xUWXDxY",
        "colab": {
          "base_uri": "https://localhost:8080/"
        },
        "outputId": "fec92f57-2fb5-43a0-88a5-58421c6c19a8"
      },
      "outputs": [
        {
          "output_type": "stream",
          "name": "stdout",
          "text": [
            "   bath  balcony  price  total_sqft_int  bhk  price_per_sqft  area_typeSuper built-up  Area  area_typeBuilt-up  Area  area_typePlot  Area  availability_Ready To Move  location_Whitefield  location_Sarjapur  Road  location_Electronic City  location_Marathahalli  location_Raja Rajeshwari Nagar  location_Haralur Road  location_Hennur Road  location_Bannerghatta Road  location_Uttarahalli  location_Thanisandra  location_Electronic City Phase II  location_Hebbal  location_7th Phase JP Nagar  location_Yelahanka  location_Kanakpura Road  location_KR Puram  location_Sarjapur  location_Rajaji Nagar  location_Kasavanhalli  location_Bellandur  location_Begur Road  location_Banashankari  location_Kothanur  location_Hormavu  location_Harlur  location_Akshaya Nagar  location_Jakkur  location_Electronics City Phase 1  location_Varthur  location_Chandapura  location_HSR Layout  location_Hennur  location_Ramamurthy Nagar  location_Ramagondanahalli  location_Kaggadasapura  location_Kundalahalli  location_Koramangala  location_Hulimavu  location_Budigere  location_Hoodi  location_Malleshwaram  location_Hegde Nagar  location_8th Phase JP Nagar  location_Gottigere  location_JP Nagar  location_Yeshwanthpur  location_Channasandra  location_Bisuvanahalli  location_Vittasandra  location_Indira Nagar  location_Vijayanagar  location_Kengeri  location_Brookefield  location_Sahakara Nagar  location_Hosa Road  location_Old Airport Road  location_Bommasandra  location_Balagere  location_Green Glen Layout  location_Old Madras Road  location_Rachenahalli  location_Panathur  location_Kudlu Gate  location_Thigalarapalya  location_Ambedkar Nagar  location_Jigani  location_Yelahanka New Town  location_Talaghattapura  location_Mysore Road  location_Kadugodi  location_Frazer Town  location_Dodda Nekkundi  location_Devanahalli  location_Kanakapura  location_Attibele  location_Anekal  location_Lakshminarayana Pura  location_Nagarbhavi  location_Ananth Nagar  location_5th Phase JP Nagar  location_TC Palaya  location_CV Raman Nagar  location_Kengeri Satellite Town  location_Kudlu  location_Jalahalli  location_Subramanyapura  location_Bhoganhalli  location_Doddathoguru  location_Kalena Agrahara  location_Horamavu Agara  location_Vidyaranyapura  location_BTM 2nd Stage  location_Hebbal Kempapura  location_Hosur Road  location_Horamavu Banaswadi  location_Domlur  location_Mahadevpura  location_Tumkur Road\n",
            "0   3.0      2.0  150.0          1672.0    3     8971.291866                              1                        0                    0                           1                    0                        0                         0                      0                               0                      0                     0                           0                     0                     0                                  0                0                            0                   0                        0                  0                  0                      0                      0                   0                    0                      0                  0                 0                0                       0                0                                  0                 0                    0                    0                0                          0                          0                       0                      0                     0                  0                  0               0                      0                     0                            0                   0                  0                      0                      0                       0                     0                      0                     0                 0                     0                        0                   0                          0                     0                  0                           0                         0                      0                  0                    0                        0                        0                0                            0                        0                     0                  0                     0                        0                     0                    0                  0                0                              0                    0                      0                            0                   0                        0                                0               0                   0                        0                     0                      0                         0                        0                        0                       0                          0                    0                            0                0                     0                     0\n",
            "1   3.0      3.0  149.0          1750.0    3     8514.285714                              0                        1                    0                           1                    0                        0                         0                      0                               0                      0                     0                           0                     0                     0                                  0                0                            0                   0                        0                  0                  0                      0                      0                   0                    0                      0                  0                 0                0                       0                0                                  0                 0                    0                    0                0                          0                          0                       0                      0                     0                  0                  0               0                      0                     0                            0                   0                  0                      0                      0                       0                     0                      0                     0                 0                     0                        0                   0                          0                     0                  0                           0                         0                      0                  0                    0                        0                        0                0                            0                        0                     0                  0                     0                        0                     0                    0                  0                0                              0                    0                      0                            0                   0                        0                                0               0                   0                        0                     0                      0                         0                        0                        0                       0                          0                    0                            0                0                     0                     0\n",
            "2   3.0      2.0  150.0          1750.0    3     8571.428571                              1                        0                    0                           1                    0                        0                         0                      0                               0                      0                     0                           0                     0                     0                                  0                0                            0                   0                        0                  0                  0                      0                      0                   0                    0                      0                  0                 0                0                       0                0                                  0                 0                    0                    0                0                          0                          0                       0                      0                     0                  0                  0               0                      0                     0                            0                   0                  0                      0                      0                       0                     0                      0                     0                 0                     0                        0                   0                          0                     0                  0                           0                         0                      0                  0                    0                        0                        0                0                            0                        0                     0                  0                     0                        0                     0                    0                  0                0                              0                    0                      0                            0                   0                        0                                0               0                   0                        0                     0                      0                         0                        0                        0                       0                          0                    0                            0                0                     0                     0\n",
            "3   2.0      2.0   40.0          1250.0    2     3200.000000                              1                        0                    0                           1                    0                        0                         0                      0                               0                      0                     0                           0                     0                     0                                  0                0                            0                   0                        0                  0                  0                      0                      0                   0                    0                      0                  0                 0                0                       0                0                                  0                 0                    0                    0                0                          0                          0                       0                      0                     0                  0                  0               0                      0                     0                            0                   0                  0                      0                      0                       0                     0                      0                     0                 0                     0                        0                   0                          0                     0                  0                           0                         0                      0                  0                    0                        0                        0                0                            0                        0                     0                  0                     0                        0                     0                    0                  0                0                              0                    0                      0                            0                   0                        0                                0               0                   0                        0                     0                      0                         0                        0                        0                       0                          0                    0                            0                0                     0                     0\n",
            "4   2.0      2.0   83.0          1200.0    2     6916.666667                              0                        0                    1                           1                    0                        0                         0                      0                               0                      0                     0                           0                     0                     0                                  0                0                            0                   0                        0                  0                  0                      0                      0                   0                    0                      0                  0                 0                0                       0                0                                  0                 0                    0                    0                0                          0                          0                       0                      0                     0                  0                  0               0                      0                     0                            0                   0                  0                      0                      0                       0                     0                      0                     0                 0                     0                        0                   0                          0                     0                  0                           0                         0                      0                  0                    0                        0                        0                0                            0                        0                     0                  0                     0                        0                     0                    0                  0                0                              0                    0                      0                            0                   0                        0                                0               0                   0                        0                     0                      0                         0                        0                        0                       0                          0                    0                            0                0                     0                     0\n"
          ]
        }
      ],
      "source": [
        "import pandas as pd\n",
        "import numpy as np\n",
        "df = pd.read_csv(\"/content/BagnHousePrice.csv\")\n",
        "print(df.head().to_string())"
      ]
    },
    {
      "cell_type": "code",
      "source": [
        "print(df.shape)"
      ],
      "metadata": {
        "colab": {
          "base_uri": "https://localhost:8080/"
        },
        "id": "61ommWhKasqS",
        "outputId": "3445a888-ac40-4a02-86e4-6d342996826b"
      },
      "execution_count": 21,
      "outputs": [
        {
          "output_type": "stream",
          "name": "stdout",
          "text": [
            "(7120, 108)\n"
          ]
        }
      ]
    },
    {
      "cell_type": "code",
      "source": [
        "x = df.drop('price',axis=1)\n",
        "y = df['price']\n",
        "print(\"output of x is : \" , x)\n",
        "print(\"output of y is : \" , y)"
      ],
      "metadata": {
        "colab": {
          "base_uri": "https://localhost:8080/"
        },
        "id": "57D9-5Ola1P5",
        "outputId": "273abf85-20a9-4f20-f369-3254b8427dde"
      },
      "execution_count": 22,
      "outputs": [
        {
          "output_type": "stream",
          "name": "stdout",
          "text": [
            "output of x is :        bath  balcony  total_sqft_int  bhk  price_per_sqft  \\\n",
            "0      3.0      2.0          1672.0    3     8971.291866   \n",
            "1      3.0      3.0          1750.0    3     8514.285714   \n",
            "2      3.0      2.0          1750.0    3     8571.428571   \n",
            "3      2.0      2.0          1250.0    2     3200.000000   \n",
            "4      2.0      2.0          1200.0    2     6916.666667   \n",
            "...    ...      ...             ...  ...             ...   \n",
            "7115   3.0      2.0          2900.0    3    11206.896552   \n",
            "7116   3.0      1.0          1780.0    3     4765.730337   \n",
            "7117   2.0      1.0           880.0    2     5454.545455   \n",
            "7118   2.0      1.0          1000.0    2     5500.000000   \n",
            "7119   2.0      1.0          1400.0    3     5571.428571   \n",
            "\n",
            "      area_typeSuper built-up  Area  area_typeBuilt-up  Area  \\\n",
            "0                                 1                        0   \n",
            "1                                 0                        1   \n",
            "2                                 1                        0   \n",
            "3                                 1                        0   \n",
            "4                                 0                        0   \n",
            "...                             ...                      ...   \n",
            "7115                              1                        0   \n",
            "7116                              1                        0   \n",
            "7117                              0                        0   \n",
            "7118                              0                        0   \n",
            "7119                              0                        0   \n",
            "\n",
            "      area_typePlot  Area  availability_Ready To Move  location_Whitefield  \\\n",
            "0                       0                           1                    0   \n",
            "1                       0                           1                    0   \n",
            "2                       0                           1                    0   \n",
            "3                       0                           1                    0   \n",
            "4                       1                           1                    0   \n",
            "...                   ...                         ...                  ...   \n",
            "7115                    0                           1                    0   \n",
            "7116                    0                           0                    0   \n",
            "7117                    1                           1                    0   \n",
            "7118                    1                           0                    0   \n",
            "7119                    1                           0                    0   \n",
            "\n",
            "      ...  location_Kalena Agrahara  location_Horamavu Agara  \\\n",
            "0     ...                         0                        0   \n",
            "1     ...                         0                        0   \n",
            "2     ...                         0                        0   \n",
            "3     ...                         0                        0   \n",
            "4     ...                         0                        0   \n",
            "...   ...                       ...                      ...   \n",
            "7115  ...                         0                        0   \n",
            "7116  ...                         0                        0   \n",
            "7117  ...                         0                        0   \n",
            "7118  ...                         0                        0   \n",
            "7119  ...                         0                        0   \n",
            "\n",
            "      location_Vidyaranyapura  location_BTM 2nd Stage  \\\n",
            "0                           0                       0   \n",
            "1                           0                       0   \n",
            "2                           0                       0   \n",
            "3                           0                       0   \n",
            "4                           0                       0   \n",
            "...                       ...                     ...   \n",
            "7115                        0                       0   \n",
            "7116                        0                       0   \n",
            "7117                        0                       0   \n",
            "7118                        0                       0   \n",
            "7119                        0                       0   \n",
            "\n",
            "      location_Hebbal Kempapura  location_Hosur Road  \\\n",
            "0                             0                    0   \n",
            "1                             0                    0   \n",
            "2                             0                    0   \n",
            "3                             0                    0   \n",
            "4                             0                    0   \n",
            "...                         ...                  ...   \n",
            "7115                          0                    0   \n",
            "7116                          0                    0   \n",
            "7117                          0                    0   \n",
            "7118                          0                    0   \n",
            "7119                          0                    0   \n",
            "\n",
            "      location_Horamavu Banaswadi  location_Domlur  location_Mahadevpura  \\\n",
            "0                               0                0                     0   \n",
            "1                               0                0                     0   \n",
            "2                               0                0                     0   \n",
            "3                               0                0                     0   \n",
            "4                               0                0                     0   \n",
            "...                           ...              ...                   ...   \n",
            "7115                            0                0                     0   \n",
            "7116                            0                0                     0   \n",
            "7117                            0                0                     0   \n",
            "7118                            0                0                     0   \n",
            "7119                            0                0                     0   \n",
            "\n",
            "      location_Tumkur Road  \n",
            "0                        0  \n",
            "1                        0  \n",
            "2                        0  \n",
            "3                        0  \n",
            "4                        0  \n",
            "...                    ...  \n",
            "7115                     0  \n",
            "7116                     0  \n",
            "7117                     0  \n",
            "7118                     0  \n",
            "7119                     0  \n",
            "\n",
            "[7120 rows x 107 columns]\n",
            "output of y is :  0       150.00\n",
            "1       149.00\n",
            "2       150.00\n",
            "3        40.00\n",
            "4        83.00\n",
            "         ...  \n",
            "7115    325.00\n",
            "7116     84.83\n",
            "7117     48.00\n",
            "7118     55.00\n",
            "7119     78.00\n",
            "Name: price, Length: 7120, dtype: float64\n"
          ]
        }
      ]
    },
    {
      "cell_type": "code",
      "source": [
        "x.shape"
      ],
      "metadata": {
        "colab": {
          "base_uri": "https://localhost:8080/"
        },
        "id": "zWba-3CBd34P",
        "outputId": "47adf8ca-0d9d-4338-c3f3-89051ff35b5b"
      },
      "execution_count": 23,
      "outputs": [
        {
          "output_type": "execute_result",
          "data": {
            "text/plain": [
              "(7120, 107)"
            ]
          },
          "metadata": {},
          "execution_count": 23
        }
      ]
    },
    {
      "cell_type": "code",
      "source": [
        "y.shape"
      ],
      "metadata": {
        "colab": {
          "base_uri": "https://localhost:8080/"
        },
        "id": "BxApA7SreRpY",
        "outputId": "cd9e8852-a650-417b-d442-c2527c8255c8"
      },
      "execution_count": 24,
      "outputs": [
        {
          "output_type": "execute_result",
          "data": {
            "text/plain": [
              "(7120,)"
            ]
          },
          "metadata": {},
          "execution_count": 24
        }
      ]
    },
    {
      "cell_type": "code",
      "source": [
        "from sklearn.model_selection import train_test_split\n",
        "x_train, x_test, y_train, y_test = train_test_split(x , y , test_size = 0.2,random_state=51)\n",
        "x_train.shape"
      ],
      "metadata": {
        "colab": {
          "base_uri": "https://localhost:8080/"
        },
        "id": "93VLpYsheZY4",
        "outputId": "b4e7d31d-55e5-4de5-98b2-15f353fcffd2"
      },
      "execution_count": 25,
      "outputs": [
        {
          "output_type": "execute_result",
          "data": {
            "text/plain": [
              "(5696, 107)"
            ]
          },
          "metadata": {},
          "execution_count": 25
        }
      ]
    },
    {
      "cell_type": "code",
      "source": [
        "y_train.shape"
      ],
      "metadata": {
        "colab": {
          "base_uri": "https://localhost:8080/"
        },
        "id": "t4bi81JSfQ-G",
        "outputId": "882802cb-3094-4efe-f585-a45f48273024"
      },
      "execution_count": 26,
      "outputs": [
        {
          "output_type": "execute_result",
          "data": {
            "text/plain": [
              "(5696,)"
            ]
          },
          "metadata": {},
          "execution_count": 26
        }
      ]
    },
    {
      "cell_type": "code",
      "source": [
        "x_test.shape"
      ],
      "metadata": {
        "colab": {
          "base_uri": "https://localhost:8080/"
        },
        "id": "eOpzbvEYgz7-",
        "outputId": "9dd891e4-1401-4587-f369-2388cb25f0a5"
      },
      "execution_count": 27,
      "outputs": [
        {
          "output_type": "execute_result",
          "data": {
            "text/plain": [
              "(1424, 107)"
            ]
          },
          "metadata": {},
          "execution_count": 27
        }
      ]
    },
    {
      "cell_type": "code",
      "source": [
        "y_test.shape"
      ],
      "metadata": {
        "colab": {
          "base_uri": "https://localhost:8080/"
        },
        "id": "SMTbJOwjg35N",
        "outputId": "0f94f18c-c648-41a0-c4bf-eb20aa356a21"
      },
      "execution_count": 28,
      "outputs": [
        {
          "output_type": "execute_result",
          "data": {
            "text/plain": [
              "(1424,)"
            ]
          },
          "metadata": {},
          "execution_count": 28
        }
      ]
    },
    {
      "cell_type": "code",
      "source": [
        "from sklearn.linear_model import LinearRegression"
      ],
      "metadata": {
        "id": "5pkWmCDeg7u-"
      },
      "execution_count": 29,
      "outputs": []
    },
    {
      "cell_type": "code",
      "source": [
        "lr = LinearRegression()"
      ],
      "metadata": {
        "id": "lxRl4xxrpuQk"
      },
      "execution_count": 30,
      "outputs": []
    },
    {
      "cell_type": "code",
      "source": [
        "lr.fit(x_train,y_train)"
      ],
      "metadata": {
        "colab": {
          "base_uri": "https://localhost:8080/",
          "height": 51
        },
        "id": "ypqsNRnZp11n",
        "outputId": "c26f40cc-83ac-422e-eb08-f9d4e5d9d7d9"
      },
      "execution_count": 32,
      "outputs": [
        {
          "output_type": "execute_result",
          "data": {
            "text/plain": [
              "LinearRegression()"
            ],
            "text/html": [
              "<style>#sk-container-id-1 {color: black;background-color: white;}#sk-container-id-1 pre{padding: 0;}#sk-container-id-1 div.sk-toggleable {background-color: white;}#sk-container-id-1 label.sk-toggleable__label {cursor: pointer;display: block;width: 100%;margin-bottom: 0;padding: 0.3em;box-sizing: border-box;text-align: center;}#sk-container-id-1 label.sk-toggleable__label-arrow:before {content: \"▸\";float: left;margin-right: 0.25em;color: #696969;}#sk-container-id-1 label.sk-toggleable__label-arrow:hover:before {color: black;}#sk-container-id-1 div.sk-estimator:hover label.sk-toggleable__label-arrow:before {color: black;}#sk-container-id-1 div.sk-toggleable__content {max-height: 0;max-width: 0;overflow: hidden;text-align: left;background-color: #f0f8ff;}#sk-container-id-1 div.sk-toggleable__content pre {margin: 0.2em;color: black;border-radius: 0.25em;background-color: #f0f8ff;}#sk-container-id-1 input.sk-toggleable__control:checked~div.sk-toggleable__content {max-height: 200px;max-width: 100%;overflow: auto;}#sk-container-id-1 input.sk-toggleable__control:checked~label.sk-toggleable__label-arrow:before {content: \"▾\";}#sk-container-id-1 div.sk-estimator input.sk-toggleable__control:checked~label.sk-toggleable__label {background-color: #d4ebff;}#sk-container-id-1 div.sk-label input.sk-toggleable__control:checked~label.sk-toggleable__label {background-color: #d4ebff;}#sk-container-id-1 input.sk-hidden--visually {border: 0;clip: rect(1px 1px 1px 1px);clip: rect(1px, 1px, 1px, 1px);height: 1px;margin: -1px;overflow: hidden;padding: 0;position: absolute;width: 1px;}#sk-container-id-1 div.sk-estimator {font-family: monospace;background-color: #f0f8ff;border: 1px dotted black;border-radius: 0.25em;box-sizing: border-box;margin-bottom: 0.5em;}#sk-container-id-1 div.sk-estimator:hover {background-color: #d4ebff;}#sk-container-id-1 div.sk-parallel-item::after {content: \"\";width: 100%;border-bottom: 1px solid gray;flex-grow: 1;}#sk-container-id-1 div.sk-label:hover label.sk-toggleable__label {background-color: #d4ebff;}#sk-container-id-1 div.sk-serial::before {content: \"\";position: absolute;border-left: 1px solid gray;box-sizing: border-box;top: 0;bottom: 0;left: 50%;z-index: 0;}#sk-container-id-1 div.sk-serial {display: flex;flex-direction: column;align-items: center;background-color: white;padding-right: 0.2em;padding-left: 0.2em;position: relative;}#sk-container-id-1 div.sk-item {position: relative;z-index: 1;}#sk-container-id-1 div.sk-parallel {display: flex;align-items: stretch;justify-content: center;background-color: white;position: relative;}#sk-container-id-1 div.sk-item::before, #sk-container-id-1 div.sk-parallel-item::before {content: \"\";position: absolute;border-left: 1px solid gray;box-sizing: border-box;top: 0;bottom: 0;left: 50%;z-index: -1;}#sk-container-id-1 div.sk-parallel-item {display: flex;flex-direction: column;z-index: 1;position: relative;background-color: white;}#sk-container-id-1 div.sk-parallel-item:first-child::after {align-self: flex-end;width: 50%;}#sk-container-id-1 div.sk-parallel-item:last-child::after {align-self: flex-start;width: 50%;}#sk-container-id-1 div.sk-parallel-item:only-child::after {width: 0;}#sk-container-id-1 div.sk-dashed-wrapped {border: 1px dashed gray;margin: 0 0.4em 0.5em 0.4em;box-sizing: border-box;padding-bottom: 0.4em;background-color: white;}#sk-container-id-1 div.sk-label label {font-family: monospace;font-weight: bold;display: inline-block;line-height: 1.2em;}#sk-container-id-1 div.sk-label-container {text-align: center;}#sk-container-id-1 div.sk-container {/* jupyter's `normalize.less` sets `[hidden] { display: none; }` but bootstrap.min.css set `[hidden] { display: none !important; }` so we also need the `!important` here to be able to override the default hidden behavior on the sphinx rendered scikit-learn.org. See: https://github.com/scikit-learn/scikit-learn/issues/21755 */display: inline-block !important;position: relative;}#sk-container-id-1 div.sk-text-repr-fallback {display: none;}</style><div id=\"sk-container-id-1\" class=\"sk-top-container\"><div class=\"sk-text-repr-fallback\"><pre>LinearRegression()</pre><b>In a Jupyter environment, please rerun this cell to show the HTML representation or trust the notebook. <br />On GitHub, the HTML representation is unable to render, please try loading this page with nbviewer.org.</b></div><div class=\"sk-container\" hidden><div class=\"sk-item\"><div class=\"sk-estimator sk-toggleable\"><input class=\"sk-toggleable__control sk-hidden--visually\" id=\"sk-estimator-id-1\" type=\"checkbox\" checked><label for=\"sk-estimator-id-1\" class=\"sk-toggleable__label sk-toggleable__label-arrow\">LinearRegression</label><div class=\"sk-toggleable__content\"><pre>LinearRegression()</pre></div></div></div></div></div>"
            ]
          },
          "metadata": {},
          "execution_count": 32
        }
      ]
    }
  ]
}